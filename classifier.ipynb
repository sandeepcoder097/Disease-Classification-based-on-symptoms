{
 "cells": [
  {
   "cell_type": "code",
   "execution_count": 1,
   "metadata": {},
   "outputs": [],
   "source": [
    "import pandas as pd\n",
    "import numpy as np\n",
    "from sklearn import svm\n",
    "%matplotlib inline\n",
    "import matplotlib.pyplot as plt\n",
    "from sklearn.feature_extraction.text import TfidfVectorizer"
   ]
  },
  {
   "cell_type": "code",
   "execution_count": 2,
   "metadata": {},
   "outputs": [],
   "source": [
    "df = pd.read_csv('Dataset.csv')"
   ]
  },
  {
   "cell_type": "code",
   "execution_count": 3,
   "metadata": {},
   "outputs": [
    {
     "data": {
      "text/html": [
       "<div>\n",
       "<style scoped>\n",
       "    .dataframe tbody tr th:only-of-type {\n",
       "        vertical-align: middle;\n",
       "    }\n",
       "\n",
       "    .dataframe tbody tr th {\n",
       "        vertical-align: top;\n",
       "    }\n",
       "\n",
       "    .dataframe thead th {\n",
       "        text-align: right;\n",
       "    }\n",
       "</style>\n",
       "<table border=\"1\" class=\"dataframe\">\n",
       "  <thead>\n",
       "    <tr style=\"text-align: right;\">\n",
       "      <th></th>\n",
       "      <th>Disease</th>\n",
       "      <th>Symptom</th>\n",
       "    </tr>\n",
       "  </thead>\n",
       "  <tbody>\n",
       "    <tr>\n",
       "      <th>0</th>\n",
       "      <td>hypertensive disease</td>\n",
       "      <td>pain chest</td>\n",
       "    </tr>\n",
       "    <tr>\n",
       "      <th>1</th>\n",
       "      <td>hypertensive disease</td>\n",
       "      <td>shortness of breath</td>\n",
       "    </tr>\n",
       "    <tr>\n",
       "      <th>2</th>\n",
       "      <td>hypertensive disease</td>\n",
       "      <td>dizziness</td>\n",
       "    </tr>\n",
       "    <tr>\n",
       "      <th>3</th>\n",
       "      <td>hypertensive disease</td>\n",
       "      <td>asthenia</td>\n",
       "    </tr>\n",
       "    <tr>\n",
       "      <th>4</th>\n",
       "      <td>hypertensive disease</td>\n",
       "      <td>fall</td>\n",
       "    </tr>\n",
       "  </tbody>\n",
       "</table>\n",
       "</div>"
      ],
      "text/plain": [
       "                Disease              Symptom\n",
       "0  hypertensive disease           pain chest\n",
       "1  hypertensive disease  shortness of breath\n",
       "2  hypertensive disease            dizziness\n",
       "3  hypertensive disease             asthenia\n",
       "4  hypertensive disease                 fall"
      ]
     },
     "execution_count": 3,
     "metadata": {},
     "output_type": "execute_result"
    }
   ],
   "source": [
    "df.head()"
   ]
  },
  {
   "cell_type": "code",
   "execution_count": 4,
   "metadata": {},
   "outputs": [],
   "source": [
    "df = df.set_index('Disease')"
   ]
  },
  {
   "cell_type": "code",
   "execution_count": 5,
   "metadata": {},
   "outputs": [
    {
     "data": {
      "text/html": [
       "<div>\n",
       "<style scoped>\n",
       "    .dataframe tbody tr th:only-of-type {\n",
       "        vertical-align: middle;\n",
       "    }\n",
       "\n",
       "    .dataframe tbody tr th {\n",
       "        vertical-align: top;\n",
       "    }\n",
       "\n",
       "    .dataframe thead th {\n",
       "        text-align: right;\n",
       "    }\n",
       "</style>\n",
       "<table border=\"1\" class=\"dataframe\">\n",
       "  <thead>\n",
       "    <tr style=\"text-align: right;\">\n",
       "      <th></th>\n",
       "      <th>Symptom</th>\n",
       "    </tr>\n",
       "    <tr>\n",
       "      <th>Disease</th>\n",
       "      <th></th>\n",
       "    </tr>\n",
       "  </thead>\n",
       "  <tbody>\n",
       "    <tr>\n",
       "      <th>hypertensive disease</th>\n",
       "      <td>pain chest</td>\n",
       "    </tr>\n",
       "    <tr>\n",
       "      <th>hypertensive disease</th>\n",
       "      <td>shortness of breath</td>\n",
       "    </tr>\n",
       "    <tr>\n",
       "      <th>hypertensive disease</th>\n",
       "      <td>dizziness</td>\n",
       "    </tr>\n",
       "    <tr>\n",
       "      <th>hypertensive disease</th>\n",
       "      <td>asthenia</td>\n",
       "    </tr>\n",
       "    <tr>\n",
       "      <th>hypertensive disease</th>\n",
       "      <td>fall</td>\n",
       "    </tr>\n",
       "  </tbody>\n",
       "</table>\n",
       "</div>"
      ],
      "text/plain": [
       "                                  Symptom\n",
       "Disease                                  \n",
       "hypertensive disease           pain chest\n",
       "hypertensive disease  shortness of breath\n",
       "hypertensive disease            dizziness\n",
       "hypertensive disease             asthenia\n",
       "hypertensive disease                 fall"
      ]
     },
     "execution_count": 5,
     "metadata": {},
     "output_type": "execute_result"
    }
   ],
   "source": [
    "df.head()"
   ]
  },
  {
   "cell_type": "code",
   "execution_count": 6,
   "metadata": {},
   "outputs": [
    {
     "data": {
      "text/html": [
       "<div>\n",
       "<style scoped>\n",
       "    .dataframe tbody tr th:only-of-type {\n",
       "        vertical-align: middle;\n",
       "    }\n",
       "\n",
       "    .dataframe tbody tr th {\n",
       "        vertical-align: top;\n",
       "    }\n",
       "\n",
       "    .dataframe thead th {\n",
       "        text-align: right;\n",
       "    }\n",
       "</style>\n",
       "<table border=\"1\" class=\"dataframe\">\n",
       "  <thead>\n",
       "    <tr style=\"text-align: right;\">\n",
       "      <th></th>\n",
       "      <th>Symptom</th>\n",
       "    </tr>\n",
       "    <tr>\n",
       "      <th>Disease</th>\n",
       "      <th></th>\n",
       "    </tr>\n",
       "  </thead>\n",
       "  <tbody>\n",
       "    <tr>\n",
       "      <th>hypertensive disease</th>\n",
       "      <td>pain chest</td>\n",
       "    </tr>\n",
       "    <tr>\n",
       "      <th>hypertensive disease</th>\n",
       "      <td>shortness of breath</td>\n",
       "    </tr>\n",
       "    <tr>\n",
       "      <th>hypertensive disease</th>\n",
       "      <td>dizziness</td>\n",
       "    </tr>\n",
       "    <tr>\n",
       "      <th>hypertensive disease</th>\n",
       "      <td>asthenia</td>\n",
       "    </tr>\n",
       "    <tr>\n",
       "      <th>hypertensive disease</th>\n",
       "      <td>fall</td>\n",
       "    </tr>\n",
       "    <tr>\n",
       "      <th>hypertensive disease</th>\n",
       "      <td>syncope</td>\n",
       "    </tr>\n",
       "    <tr>\n",
       "      <th>hypertensive disease</th>\n",
       "      <td>vertigo</td>\n",
       "    </tr>\n",
       "    <tr>\n",
       "      <th>hypertensive disease</th>\n",
       "      <td>sweat sweating increased</td>\n",
       "    </tr>\n",
       "    <tr>\n",
       "      <th>hypertensive disease</th>\n",
       "      <td>palpitation</td>\n",
       "    </tr>\n",
       "    <tr>\n",
       "      <th>hypertensive disease</th>\n",
       "      <td>nausea</td>\n",
       "    </tr>\n",
       "    <tr>\n",
       "      <th>hypertensive disease</th>\n",
       "      <td>angina pectoris</td>\n",
       "    </tr>\n",
       "    <tr>\n",
       "      <th>hypertensive disease</th>\n",
       "      <td>pressure chest</td>\n",
       "    </tr>\n",
       "  </tbody>\n",
       "</table>\n",
       "</div>"
      ],
      "text/plain": [
       "                                       Symptom\n",
       "Disease                                       \n",
       "hypertensive disease                pain chest\n",
       "hypertensive disease       shortness of breath\n",
       "hypertensive disease                 dizziness\n",
       "hypertensive disease                  asthenia\n",
       "hypertensive disease                      fall\n",
       "hypertensive disease                   syncope\n",
       "hypertensive disease                   vertigo\n",
       "hypertensive disease  sweat sweating increased\n",
       "hypertensive disease               palpitation\n",
       "hypertensive disease                    nausea\n",
       "hypertensive disease           angina pectoris\n",
       "hypertensive disease            pressure chest"
      ]
     },
     "execution_count": 6,
     "metadata": {},
     "output_type": "execute_result"
    }
   ],
   "source": [
    "df.loc['hypertensive disease']"
   ]
  },
  {
   "cell_type": "code",
   "execution_count": 7,
   "metadata": {},
   "outputs": [],
   "source": [
    "df = df.groupby(['Disease'])['Symptom'].apply(lambda x: ','.join(x.astype(str))).reset_index()"
   ]
  },
  {
   "cell_type": "code",
   "execution_count": 8,
   "metadata": {},
   "outputs": [
    {
     "data": {
      "text/html": [
       "<div>\n",
       "<style scoped>\n",
       "    .dataframe tbody tr th:only-of-type {\n",
       "        vertical-align: middle;\n",
       "    }\n",
       "\n",
       "    .dataframe tbody tr th {\n",
       "        vertical-align: top;\n",
       "    }\n",
       "\n",
       "    .dataframe thead th {\n",
       "        text-align: right;\n",
       "    }\n",
       "</style>\n",
       "<table border=\"1\" class=\"dataframe\">\n",
       "  <thead>\n",
       "    <tr style=\"text-align: right;\">\n",
       "      <th></th>\n",
       "      <th>Disease</th>\n",
       "      <th>Symptom</th>\n",
       "    </tr>\n",
       "  </thead>\n",
       "  <tbody>\n",
       "    <tr>\n",
       "      <th>0</th>\n",
       "      <td>Alzheimer's disease</td>\n",
       "      <td>drool,agitation,nightmare,rhonchus,consciousne...</td>\n",
       "    </tr>\n",
       "    <tr>\n",
       "      <th>1</th>\n",
       "      <td>Pneumocystis carinii pneumonia</td>\n",
       "      <td>yellow sputum,cachexia,chill,decreased body we...</td>\n",
       "    </tr>\n",
       "    <tr>\n",
       "      <th>2</th>\n",
       "      <td>accident cerebrovascular</td>\n",
       "      <td>dysarthria,asthenia,speech slurred,facial pare...</td>\n",
       "    </tr>\n",
       "    <tr>\n",
       "      <th>3</th>\n",
       "      <td>acquired immuno-deficiency syndrome HIV hiv in...</td>\n",
       "      <td>fever,night sweat,spontaneous rupture of membr...</td>\n",
       "    </tr>\n",
       "    <tr>\n",
       "      <th>4</th>\n",
       "      <td>adenocarcinoma</td>\n",
       "      <td>mass of body structure,lesion,decreased body w...</td>\n",
       "    </tr>\n",
       "  </tbody>\n",
       "</table>\n",
       "</div>"
      ],
      "text/plain": [
       "                                             Disease  \\\n",
       "0                                Alzheimer's disease   \n",
       "1                     Pneumocystis carinii pneumonia   \n",
       "2                           accident cerebrovascular   \n",
       "3  acquired immuno-deficiency syndrome HIV hiv in...   \n",
       "4                                     adenocarcinoma   \n",
       "\n",
       "                                             Symptom  \n",
       "0  drool,agitation,nightmare,rhonchus,consciousne...  \n",
       "1  yellow sputum,cachexia,chill,decreased body we...  \n",
       "2  dysarthria,asthenia,speech slurred,facial pare...  \n",
       "3  fever,night sweat,spontaneous rupture of membr...  \n",
       "4  mass of body structure,lesion,decreased body w...  "
      ]
     },
     "execution_count": 8,
     "metadata": {},
     "output_type": "execute_result"
    }
   ],
   "source": [
    "df.head()"
   ]
  },
  {
   "cell_type": "code",
   "execution_count": 9,
   "metadata": {},
   "outputs": [],
   "source": [
    "from sklearn.model_selection import train_test_split \n",
    "X_train, X_test, y_train, y_test = train_test_split(df['Symptom'], df['Disease'], random_state=0)"
   ]
  },
  {
   "cell_type": "code",
   "execution_count": 10,
   "metadata": {},
   "outputs": [
    {
     "name": "stdout",
     "output_type": "stream",
     "text": [
      "X_train shape: (99,)\n",
      "y_train shape: (99,)\n"
     ]
    }
   ],
   "source": [
    "print(\"X_train shape: {}\".format(X_train.shape)) \n",
    "print(\"y_train shape: {}\".format(y_train.shape))"
   ]
  },
  {
   "cell_type": "code",
   "execution_count": 11,
   "metadata": {},
   "outputs": [
    {
     "name": "stdout",
     "output_type": "stream",
     "text": [
      "X_test shape: (34,)\n",
      "y_test shape: (34,)\n"
     ]
    }
   ],
   "source": [
    "print(\"X_test shape: {}\".format(X_test.shape)) \n",
    "print(\"y_test shape: {}\".format(y_test.shape))"
   ]
  },
  {
   "cell_type": "code",
   "execution_count": 12,
   "metadata": {},
   "outputs": [],
   "source": [
    "from sklearn.feature_extraction.text import CountVectorizer\n",
    "from sklearn.feature_extraction.text import TfidfTransformer\n",
    "from sklearn.naive_bayes import MultinomialNB\n",
    "count_vect = CountVectorizer()\n",
    "X_train_counts = count_vect.fit_transform(X_train)\n",
    "tfidf_transformer = TfidfTransformer()\n",
    "X_train_tfidf = tfidf_transformer.fit_transform(X_train_counts)\n",
    "clf = MultinomialNB().fit(X_train_tfidf, y_train)"
   ]
  },
  {
   "cell_type": "code",
   "execution_count": 16,
   "metadata": {},
   "outputs": [
    {
     "name": "stdout",
     "output_type": "stream",
     "text": [
      "['adhesion']\n"
     ]
    }
   ],
   "source": [
    "print(clf.predict(count_vect.transform([\"large-for-dates fetus,para,flatulence,pain\"])))"
   ]
  },
  {
   "cell_type": "code",
   "execution_count": null,
   "metadata": {},
   "outputs": [],
   "source": []
  }
 ],
 "metadata": {
  "kernelspec": {
   "display_name": "Python 3",
   "language": "python",
   "name": "python3"
  },
  "language_info": {
   "codemirror_mode": {
    "name": "ipython",
    "version": 3
   },
   "file_extension": ".py",
   "mimetype": "text/x-python",
   "name": "python",
   "nbconvert_exporter": "python",
   "pygments_lexer": "ipython3",
   "version": "3.7.3"
  }
 },
 "nbformat": 4,
 "nbformat_minor": 2
}
